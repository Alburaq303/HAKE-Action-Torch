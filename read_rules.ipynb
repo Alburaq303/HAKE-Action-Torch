{
 "cells": [
  {
   "cell_type": "code",
   "execution_count": 1,
   "metadata": {},
   "outputs": [],
   "source": [
    "import pickle\n",
    "import numpy as np"
   ]
  },
  {
   "cell_type": "code",
   "execution_count": 3,
   "metadata": {},
   "outputs": [
    {
     "name": "stdout",
     "output_type": "stream",
     "text": [
      "pasta_76_list\n",
      " ['foot: stand on' 'foot: tread on' 'foot: walk with' 'foot: walk to'\n",
      " 'foot: run with' 'foot: run to' 'foot: dribble' 'foot: kick'\n",
      " 'foot: jump down' 'foot: jump with' 'foot: walk away'\n",
      " 'foot: no_interaction' 'leg: walk with' 'leg: walk to' 'leg: run with'\n",
      " 'leg: run to' 'leg: jump with' 'leg: is close with' 'leg: straddle'\n",
      " 'leg: jump down' 'leg: walk away' 'leg: no_interaction' 'hip: sit on'\n",
      " 'hip: sit in' 'hip: sit beside' 'hip: be close with'\n",
      " 'hip: no_interaction' 'hand: hold' 'hand: carry' 'hand: reach for'\n",
      " 'hand: touch' 'hand: put on' 'hand: twist' 'hand: wear' 'hand: throw'\n",
      " 'hand: throw out' 'hand: write on' 'hand: point with' 'hand: point to'\n",
      " 'hand: use something to point to' 'hand: press' 'hand: squeeze'\n",
      " 'hand: scratch' 'hand: pinch' 'hand: gesture to' 'hand: push'\n",
      " 'hand: pull' 'hand: pull with something' 'hand: wash'\n",
      " 'hand: wash with something' 'hand: hold in both hands' 'hand: lift'\n",
      " 'hand: raise(over head)' 'hand: feed' 'hand: cut with something'\n",
      " 'hand: catch with something' 'hand: pour into' 'hand: no_interaction'\n",
      " 'arm: shoulder carry' 'arm: be close to' 'arm: hug' 'arm: swing'\n",
      " 'arm: no_interaction' 'head: eat' 'head: inspect'\n",
      " 'head: talk with something' 'head: talk to' 'head: be close with'\n",
      " 'head: kiss' 'head: put something over head' 'head: lick' 'head: blow'\n",
      " 'head: drink with' 'head: smell' 'head: wear' 'head: no_interaction']\n"
     ]
    }
   ],
   "source": [
    "# PaSta utils\n",
    "pasta_76_list = []\n",
    "with open(\"./util/Part_State_76.txt\", \"r\") as f:\n",
    "    for line in f.readlines():\n",
    "        pasta_76_list.append(line.strip('\\n'))\n",
    "pasta_76_list = np.array(pasta_76_list)\n",
    "print(\"pasta_76_list\\n\", pasta_76_list)"
   ]
  },
  {
   "cell_type": "code",
   "execution_count": 6,
   "metadata": {},
   "outputs": [
    {
     "name": "stdout",
     "output_type": "stream",
     "text": [
      "foot: walk to\n",
      "leg: walk to\n",
      "-------\n",
      "foot: walk to\n",
      "leg: walk to\n",
      "head: kiss\n",
      "-------\n",
      "foot: walk to\n",
      "foot: run to\n",
      "leg: walk to\n",
      "leg: run to\n",
      "hand: hold\n",
      "head: inspect\n",
      "head: kiss\n",
      "-------\n",
      "foot: tread on\n",
      "foot: walk to\n",
      "foot: run to\n",
      "leg: walk to\n",
      "leg: run to\n",
      "-------\n",
      "foot: stand on\n",
      "-------\n",
      "foot: stand on\n",
      "hand: hold\n",
      "-------\n"
     ]
    }
   ],
   "source": [
    "rules_all = pickle.load(open(\"./Data/rule_seq_correct/gather_rule.pkl\", \"rb\"))\n",
    "\n",
    "hoi_id = 0 # specify hoi id, 0-600\n",
    "rules = rules_all[hoi_id]\n",
    "for rule in rules:\n",
    "    # print(rule) # 0-1 sequence \n",
    "    for idx in np.where(rule)[0]:\n",
    "        print(pasta_76_list[idx])\n",
    "    print('-------')"
   ]
  },
  {
   "cell_type": "code",
   "execution_count": null,
   "metadata": {},
   "outputs": [],
   "source": []
  }
 ],
 "metadata": {
  "kernelspec": {
   "display_name": "densepose",
   "language": "python",
   "name": "python3"
  },
  "language_info": {
   "codemirror_mode": {
    "name": "ipython",
    "version": 3
   },
   "file_extension": ".py",
   "mimetype": "text/x-python",
   "name": "python",
   "nbconvert_exporter": "python",
   "pygments_lexer": "ipython3",
   "version": "3.7.5"
  },
  "orig_nbformat": 4
 },
 "nbformat": 4,
 "nbformat_minor": 2
}
